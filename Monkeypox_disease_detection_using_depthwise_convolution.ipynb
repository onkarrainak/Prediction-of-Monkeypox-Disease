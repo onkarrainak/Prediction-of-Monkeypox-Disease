{
 "cells": [
  {
   "cell_type": "markdown",
   "metadata": {
    "id": "0iOZLGzvWien"
   },
   "source": [
    "# **Importing required libraries**\n",
    "\n",
    "\n"
   ]
  },
  {
   "cell_type": "code",
   "execution_count": 1,
   "metadata": {
    "id": "IaddL9TSniwE"
   },
   "outputs": [
    {
     "ename": "ModuleNotFoundError",
     "evalue": "No module named 'cv2'",
     "output_type": "error",
     "traceback": [
      "\u001b[1;31m---------------------------------------------------------------------------\u001b[0m",
      "\u001b[1;31mModuleNotFoundError\u001b[0m                       Traceback (most recent call last)",
      "\u001b[1;32m~\\AppData\\Local\\Temp\\ipykernel_1512\\4037052325.py\u001b[0m in \u001b[0;36m<module>\u001b[1;34m\u001b[0m\n\u001b[0;32m      6\u001b[0m \u001b[1;32mfrom\u001b[0m \u001b[0mmatplotlib\u001b[0m \u001b[1;32mimport\u001b[0m \u001b[0mpyplot\u001b[0m \u001b[1;32mas\u001b[0m \u001b[0mplt\u001b[0m\u001b[1;33m\u001b[0m\u001b[1;33m\u001b[0m\u001b[0m\n\u001b[0;32m      7\u001b[0m \u001b[1;32mimport\u001b[0m \u001b[0mseaborn\u001b[0m \u001b[1;32mas\u001b[0m \u001b[0msns\u001b[0m\u001b[1;33m\u001b[0m\u001b[1;33m\u001b[0m\u001b[0m\n\u001b[1;32m----> 8\u001b[1;33m \u001b[1;32mimport\u001b[0m \u001b[0mcv2\u001b[0m\u001b[1;33m\u001b[0m\u001b[1;33m\u001b[0m\u001b[0m\n\u001b[0m\u001b[0;32m      9\u001b[0m \u001b[1;33m\u001b[0m\u001b[0m\n\u001b[0;32m     10\u001b[0m \u001b[1;32mimport\u001b[0m \u001b[0mtensorflow\u001b[0m \u001b[1;32mas\u001b[0m \u001b[0mtf\u001b[0m\u001b[1;33m\u001b[0m\u001b[1;33m\u001b[0m\u001b[0m\n",
      "\u001b[1;31mModuleNotFoundError\u001b[0m: No module named 'cv2'"
     ]
    }
   ],
   "source": [
    "import os\n",
    "\n",
    "import numpy as np\n",
    "import pandas as pd\n",
    "from sklearn.model_selection import train_test_split\n",
    "from matplotlib import pyplot as plt\n",
    "import seaborn as sns\n",
    "import cv2\n",
    "\n",
    "import tensorflow as tf\n",
    "import  tensorflow.keras as keras\n",
    "from tensorflow.keras.preprocessing.image import ImageDataGenerator\n",
    "from tensorflow.keras.models import Sequential\n",
    "from keras.models import Model\n",
    "from tensorflow.keras.layers import Dropout\n",
    "from keras.layers import Input, Conv2D, MaxPooling2D, Dense, Flatten, SeparableConv2D\n",
    "import  tensorflow.keras.layers as layers\n",
    "from tensorflow.keras.utils import plot_model\n",
    "from tensorflow.keras.callbacks import EarlyStopping\n",
    "from tensorflow.keras.callbacks import TensorBoard\n",
    "from sklearn.metrics import confusion_matrix, classification_report"
   ]
  },
  {
   "cell_type": "markdown",
   "metadata": {
    "id": "y-Mr_BB0Wrmu"
   },
   "source": [
    "# Loading Dataset\n"
   ]
  },
  {
   "cell_type": "code",
   "execution_count": null,
   "metadata": {
    "id": "GJl4HHk3ntdy"
   },
   "outputs": [],
   "source": [
    "import pickle\n",
    "pickle_in = open(\"D:/C dac_DBDA/MY_project/X.pickle\",\"rb\")\n",
    "X = pickle.load(pickle_in)\n",
    "\n",
    "pickle_in = open(\"y.pickle\",\"rb\")\n",
    "y = pickle.load(pickle_in)\n",
    "\n"
   ]
  },
  {
   "cell_type": "markdown",
   "metadata": {
    "id": "2pkNBHTxWzMr"
   },
   "source": [
    "## Splitting Dataset"
   ]
  },
  {
   "cell_type": "code",
   "execution_count": null,
   "metadata": {
    "id": "jtdHSxP-ghGd"
   },
   "outputs": [],
   "source": [
    "x_train,x_1,y_train,y_1=train_test_split(X,y,test_size=0.2,random_state=10)\n",
    "x_val,x_test,y_val,y_test=train_test_split(x_1,y_1,test_size=0.5,random_state=10)\n",
    "x_train=np.array(x_train)\n",
    "y_train=np.array(y_train)\n",
    "x_val=np.array(x_val)\n",
    "y_val=np.array(y_val)\n",
    "x_test=np.array(x_test)\n",
    "y_test=np.array(y_test)"
   ]
  },
  {
   "cell_type": "code",
   "execution_count": null,
   "metadata": {
    "id": "L3wt1zIngds7"
   },
   "outputs": [],
   "source": [
    "# Normalize pixel values between 0 and 1\n",
    "x_train = x_train.astype('float32') / 255.0\n",
    "x_val = x_val.astype('float32') / 255.0\n",
    "x_test = x_test.astype('float32') / 255.0"
   ]
  },
  {
   "cell_type": "markdown",
   "metadata": {
    "id": "GSRU6bR0W4fY"
   },
   "source": [
    "#Model Building"
   ]
  },
  {
   "cell_type": "code",
   "execution_count": null,
   "metadata": {
    "colab": {
     "base_uri": "https://localhost:8080/"
    },
    "id": "-CwBV-ppn8id",
    "outputId": "e8f8c31f-32c3-44c3-c0b2-c063a43412dc"
   },
   "outputs": [],
   "source": [
    "from keras.models import Model\n",
    "from tensorflow.keras.layers import Dropout\n",
    "\n",
    "\n",
    "from keras.layers import Input, Conv2D, MaxPooling2D, Dense, Flatten, SeparableConv2D\n",
    "\n",
    "def vgg_depthwise_block(layer_in, n_filters, n_conv):\n",
    "\t# add convolutional layers\n",
    "\tfor _ in range(n_conv):\n",
    "\t\tlayer_in = SeparableConv2D(filters = n_filters, kernel_size = (3,3), padding='same', activation='relu')(layer_in)\n",
    "    #layer_in=Dropout(0.2)(layer_in)\n",
    "\t# add max pooling layer\n",
    "\tlayer_in = MaxPooling2D((2,2), strides=(2,2))(layer_in)\n",
    "\treturn layer_in\n",
    " \n",
    "visible = Input(shape=(300, 300, 3))\n",
    "layer = vgg_depthwise_block(visible, 64, 2)\n",
    "layer = vgg_depthwise_block(layer, 128, 1)\n",
    "#layer = vgg_depthwise_block(layer, 128, 2)\n",
    "#layer = vgg_depthwise_block(layer, 256, 2)\n",
    "layer=Dropout(0.2)(layer)\n",
    "layer = Flatten()(layer)\n",
    "layer = Dense(units=4, activation=\"softmax\")(layer)\n",
    "# create model\n",
    "model = Model(inputs=visible, outputs=layer)\n",
    " \n",
    "# summarize model\n",
    "model.summary()\n",
    " \n",
    "model.compile(optimizer=\"adam\", loss=tf.keras.losses.SparseCategoricalCrossentropy(), metrics=\"acc\")\n",
    " \n"
   ]
  },
  {
   "cell_type": "markdown",
   "metadata": {
    "id": "2YXUgt3BXCjV"
   },
   "source": [
    "## Data Augmentation"
   ]
  },
  {
   "cell_type": "code",
   "execution_count": null,
   "metadata": {
    "colab": {
     "base_uri": "https://localhost:8080/"
    },
    "id": "DFgUJ1qu90SS",
    "outputId": "b08ac74c-5fe9-4ea4-e4de-11c31850f2dc"
   },
   "outputs": [],
   "source": [
    "datagen = ImageDataGenerator(\n",
    "        rotation_range=10,  # randomly rotate images in the range (degrees, 0 to 180)\n",
    "        zoom_range = 0.1, # Randomly zoom image \n",
    "        width_shift_range=0.1,  # randomly shift images horizontally (fraction of total width)\n",
    "        height_shift_range=0.1,  # randomly shift images vertically (fraction of total height)\n",
    "        horizontal_flip=False,  # randomly flip images\n",
    "        vertical_flip=False,  # randomly flip images\n",
    "        fill_mode='constant', cval = 0.0)\n",
    "\n",
    "datagen.fit(x_train)\n",
    "\n",
    "history = model.fit_generator(datagen.flow(x_train,y_train, batch_size=32),\n",
    "                                  epochs = 128, \n",
    "                                  validation_data = (x_val,y_val),\n",
    "                                  verbose = 1)\n"
   ]
  },
  {
   "cell_type": "markdown",
   "metadata": {
    "id": "bz4Gi8vLXIGp"
   },
   "source": [
    "## Building final model with best validation accuracy"
   ]
  },
  {
   "cell_type": "code",
   "execution_count": null,
   "metadata": {
    "colab": {
     "base_uri": "https://localhost:8080/"
    },
    "id": "LFJcG8tOn-Uf",
    "outputId": "3654b378-ef99-4ae6-c115-c64c89fcdbfe"
   },
   "outputs": [],
   "source": [
    "datagen1 = ImageDataGenerator(\n",
    "        rotation_range=10,  # randomly rotate images in the range (degrees, 0 to 180)\n",
    "        zoom_range = 0.1, # Randomly zoom image \n",
    "        width_shift_range=0.1,  # randomly shift images horizontally (fraction of total width)\n",
    "        height_shift_range=0.1,  # randomly shift images vertically (fraction of total height)\n",
    "        horizontal_flip=False,  # randomly flip images\n",
    "        vertical_flip=False,  # randomly flip images\n",
    "        fill_mode='constant', cval = 0.0)\n",
    "\n",
    "datagen1.fit(x_train)\n",
    "\n",
    "history_final1 = model.fit_generator(datagen1.flow(x_train,y_train, batch_size=32),\n",
    "                                  epochs = 50, \n",
    "                                  validation_data = (x_val,y_val),\n",
    "                                  verbose = 1)\n",
    "\n"
   ]
  },
  {
   "cell_type": "markdown",
   "metadata": {
    "id": "OZEJ0KYQXQ8j"
   },
   "source": [
    "## Training vs validation graphs"
   ]
  },
  {
   "cell_type": "code",
   "execution_count": null,
   "metadata": {
    "colab": {
     "base_uri": "https://localhost:8080/",
     "height": 541
    },
    "id": "Z7hK4Sks4pqd",
    "outputId": "954467a9-a41e-4bd7-8747-0c86db54df75"
   },
   "outputs": [],
   "source": [
    "plt.plot(history_final1.history['acc'], label=\"train_accuracy\")\n",
    "plt.plot(history_final1.history['val_acc'], label=\"val_accuracy\")\n",
    "plt.xlabel(\"Epochs\")\n",
    "plt.ylabel(\"Accuracy\")\n",
    "plt.legend()\n",
    "plt.savefig('/content/seprable1.jpg')\n",
    "plt.show()\n",
    "\n",
    "plt.plot(history_final1.history['loss'], label=\"train_loss\")\n",
    "plt.plot(history_final1.history['val_loss'], label=\"val_loss\")\n",
    "plt.xlabel(\"Epochs\")\n",
    "plt.ylabel(\"Loss\")\n",
    "plt.legend()\n",
    "plt.savefig('/content/seprable2.jpg')\n",
    "plt.show()\n"
   ]
  },
  {
   "cell_type": "markdown",
   "metadata": {
    "id": "FLDpOUcLXZHn"
   },
   "source": [
    "## Test Accuracy"
   ]
  },
  {
   "cell_type": "code",
   "execution_count": null,
   "metadata": {
    "id": "ngDxsaP0qd1T"
   },
   "outputs": [],
   "source": [
    "scores = model.evaluate(x_test, y_test, verbose=0)\n"
   ]
  },
  {
   "cell_type": "code",
   "execution_count": null,
   "metadata": {
    "colab": {
     "base_uri": "https://localhost:8080/"
    },
    "id": "MEKbuclEnlsS",
    "outputId": "85350743-149d-40cd-8adb-5fd324530f6d"
   },
   "outputs": [],
   "source": [
    "print(\"%s: %.2f%%\" % (model.metrics_names[1], scores[1]*100))\n"
   ]
  },
  {
   "cell_type": "markdown",
   "metadata": {
    "id": "TqUD_OnkXcU0"
   },
   "source": [
    "## Confusion Matrix"
   ]
  },
  {
   "cell_type": "code",
   "execution_count": null,
   "metadata": {
    "id": "iSGRZ36C9ob_"
   },
   "outputs": [],
   "source": [
    "pred = model.predict(x_test)\n",
    "df1=pd.DataFrame(pred)"
   ]
  },
  {
   "cell_type": "code",
   "execution_count": null,
   "metadata": {
    "colab": {
     "base_uri": "https://localhost:8080/"
    },
    "id": "LGoFoO-h9wu6",
    "outputId": "374b471f-5fab-4ee3-f06c-04fd35345ffc"
   },
   "outputs": [],
   "source": [
    "pred_final=df1.idxmax(axis=1)\n",
    "\n",
    "pred_final"
   ]
  },
  {
   "cell_type": "code",
   "execution_count": null,
   "metadata": {
    "id": "FvnZKriE90XX"
   },
   "outputs": [],
   "source": [
    "cm = confusion_matrix(y_test, pred_final)"
   ]
  },
  {
   "cell_type": "code",
   "execution_count": null,
   "metadata": {
    "colab": {
     "base_uri": "https://localhost:8080/",
     "height": 288
    },
    "id": "2vDt3Z0_-Rk9",
    "outputId": "2e45620a-68b0-4bf5-d0ec-0ffa4c3a52d1"
   },
   "outputs": [],
   "source": [
    "plt.figure(dpi=70)\n",
    "sns.heatmap(cm, annot=True, cmap=\"Blues\")\n",
    "plt.xticks(ticks=[0.5,1.5,2.5,3.5], labels=[\"Chickenpox\", \"Measles\", \"Monkeypox\",\"Normal\"])\n",
    "plt.yticks(ticks=[0.5,1.5,2.5,3.5], labels=[\"Chickenpox\", \"Measles\", \"Monkeypox\",\"Normal\"])\n",
    "plt.xlabel(\"Predicted\")\n",
    "plt.ylabel(\"Actual\")\n",
    "plt.title(\"Confusion Matrix\")\n",
    "plt.savefig('/content/confusion_matrix.jpg')\n",
    "plt.show()\n",
    "\n",
    "\n"
   ]
  },
  {
   "cell_type": "markdown",
   "metadata": {
    "id": "R2FbcCUQXil_"
   },
   "source": [
    "#Saving Model"
   ]
  },
  {
   "cell_type": "code",
   "execution_count": null,
   "metadata": {
    "colab": {
     "base_uri": "https://localhost:8080/"
    },
    "id": "PgJMd-0Yq1tc",
    "outputId": "bf427d7a-917e-4438-95f5-09a8052b6ff0"
   },
   "outputs": [],
   "source": [
    "model.save(\"/content/drive/MyDrive/model1.h5\")\n",
    "print(\"Saved model to disk\")"
   ]
  },
  {
   "cell_type": "code",
   "execution_count": null,
   "metadata": {},
   "outputs": [],
   "source": []
  }
 ],
 "metadata": {
  "accelerator": "GPU",
  "colab": {
   "collapsed_sections": [],
   "provenance": []
  },
  "kernelspec": {
   "display_name": "Python 3 (ipykernel)",
   "language": "python",
   "name": "python3"
  },
  "language_info": {
   "codemirror_mode": {
    "name": "ipython",
    "version": 3
   },
   "file_extension": ".py",
   "mimetype": "text/x-python",
   "name": "python",
   "nbconvert_exporter": "python",
   "pygments_lexer": "ipython3",
   "version": "3.9.13"
  }
 },
 "nbformat": 4,
 "nbformat_minor": 1
}
