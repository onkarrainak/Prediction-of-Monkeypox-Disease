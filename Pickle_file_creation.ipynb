{
 "cells": [
  {
   "cell_type": "code",
   "execution_count": null,
   "id": "adaa07dd-689e-4129-85fb-d24570671f86",
   "metadata": {},
   "outputs": [],
   "source": [
    "import os\n",
    "\n",
    "import numpy as np\n",
    "import pandas as pd\n",
    "from sklearn.model_selection import train_test_split\n",
    "from matplotlib import pyplot as plt\n",
    "import seaborn as sns\n",
    "import cv2\n",
    "\n",
    "\n"
   ]
  },
  {
   "cell_type": "code",
   "execution_count": null,
   "id": "f6637494-e328-4b35-9584-f52db6e190a1",
   "metadata": {},
   "outputs": [],
   "source": [
    "DATADIR = r\"D:/python/python_env/Skin_Image_Dataset/\" #path to downloaded images\n",
    "\n",
    "CATEGORIES = [\"Chickenpox\", \"Measles\", \"Monkeypox\",\"Normal\" ]"
   ]
  },
  {
   "cell_type": "code",
   "execution_count": null,
   "id": "ae0da3b7-9518-43bd-b95a-e6ee17590977",
   "metadata": {},
   "outputs": [],
   "source": [
    "from tqdm import tqdm\n",
    "IMG_SIZE=300\n",
    "training_data = []\n",
    "\n",
    "def create_training_data():\n",
    "    for category in CATEGORIES:  #\n",
    "\n",
    "        path = os.path.join(DATADIR,category)  # create path to categories\n",
    "        print(path)\n",
    "        class_num = CATEGORIES.index(category)  # get the classification  ( 0,1,2,3). \n",
    "                            #0=\"Chickenpox\", 1=\"Measles\", 2=\"Monkeypox\",3=\"Normal\" \n",
    "\n",
    "        for img in tqdm(os.listdir(path)):  # iterate over each image per dogs and cats\n",
    "            try:\n",
    "                img_array = cv2.imread(os.path.join(path,img) ,cv2.IMREAD_COLOR)  # convert to array\n",
    "                new_array = cv2.resize(img_array, (IMG_SIZE, IMG_SIZE))  # resize to normalize data size\n",
    "                training_data.append([new_array, class_num])  # add this to our training_data\n",
    "            except Exception as e:  # in the interest in keeping the output clean...\n",
    "                pass\n",
    "create_training_data()\n",
    "\n",
    "print(len(training_data))\n"
   ]
  },
  {
   "cell_type": "code",
   "execution_count": null,
   "id": "e5208843-b414-402c-aa5e-17b3cf0714b3",
   "metadata": {},
   "outputs": [],
   "source": [
    "# Normalize pixel values between 0 and 1\n",
    "x_train = x_train.astype('float32') / 255.0\n",
    "x_val = x_val.astype('float32') / 255.0\n",
    "x_test = x_test.astype('float32') / 255.0"
   ]
  },
  {
   "cell_type": "code",
   "execution_count": null,
   "id": "c9bd58f7-ca5c-4ccd-a750-869d59171c6a",
   "metadata": {},
   "outputs": [],
   "source": [
    "X = []\n",
    "y = []\n",
    "\n",
    "for features,label in training_data:\n",
    "    X.append(features)\n",
    "    y.append(label)\n",
    "\n",
    "print(X[0].reshape(-1, IMG_SIZE, IMG_SIZE, 3))\n",
    "\n",
    "X = np.array(X).reshape(-1, IMG_SIZE, IMG_SIZE, 3)\n"
   ]
  },
  {
   "cell_type": "code",
   "execution_count": null,
   "id": "0f2dd8be-ed62-4e26-b385-cf51a4be877a",
   "metadata": {},
   "outputs": [],
   "source": [
    "from tqdm import tqdm\n",
    "IMG_SIZE=300\n",
    "training_data = []\n",
    "\n",
    "    for category in CATEGORIES:  #\n",
    "\n",
    "        path = os.path.join(DATADIR,category)  # create path to categories\n",
    "        print(path)\n",
    "        class_num = CATEGORIES.index(category)  # get the classification  ( 0,1,2,3). \n",
    "                            #0=\"Chickenpox\", 1=\"Measles\", 2=\"Monkeypox\",3=\"Normal\" \n",
    "\n",
    "        for img in tqdm(os.listdir(path)):  # iterate over each image per dogs and cats\n",
    "            try:\n",
    "                img_array = cv2.imread(os.path.join(path,img) ,cv2.IMREAD_COLOR)  # convert to array\n",
    "                new_array = cv2.resize(img_array, (IMG_SIZE, IMG_SIZE))  # resize to normalize data size\n",
    "                training_data.append([new_array, class_num])  # add this to our training_data\n",
    "            except Exception as e:  # in the interest in keeping the output clean...\n",
    "                pass\n",
    "create_training_data()\n",
    "\n",
    "print(len(training_data))\n"
   ]
  },
  {
   "cell_type": "code",
   "execution_count": null,
   "id": "f30aefbb-fb79-446d-b14e-9cf969b90dcf",
   "metadata": {},
   "outputs": [],
   "source": [
    "import pickle\n",
    "\n",
    "pickle_out = open(\"X.pickle\",\"wb\")\n",
    "pickle.dump(X, pickle_out)\n",
    "pickle_out.close()\n",
    "\n",
    "pickle_out = open(\"y.pickle\",\"wb\")\n",
    "pickle.dump(y, pickle_out)\n",
    "pickle_out.close()\n"
   ]
  }
 ],
 "metadata": {
  "kernelspec": {
   "display_name": "Python 3 (ipykernel)",
   "language": "python",
   "name": "python3"
  },
  "language_info": {
   "codemirror_mode": {
    "name": "ipython",
    "version": 3
   },
   "file_extension": ".py",
   "mimetype": "text/x-python",
   "name": "python",
   "nbconvert_exporter": "python",
   "pygments_lexer": "ipython3",
   "version": "3.9.13"
  }
 },
 "nbformat": 4,
 "nbformat_minor": 5
}
